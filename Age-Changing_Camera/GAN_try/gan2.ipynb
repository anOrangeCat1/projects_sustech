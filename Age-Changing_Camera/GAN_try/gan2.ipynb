{
 "cells": [
  {
   "attachments": {},
   "cell_type": "markdown",
   "metadata": {},
   "source": [
    "# GAN\n",
    "使用 PyTorch 实现一个简单的 GAN 网络，并测试该网络的效果。\n",
    "\n",
    "首先导入相关库"
   ]
  },
  {
   "cell_type": "code",
   "execution_count": 2,
   "metadata": {},
   "outputs": [],
   "source": [
    "import torch\n",
    "import torch.nn as nn\n",
    "import torch.optim as optim\n",
    "from torchvision import transforms, datasets\n",
    "from torchvision.utils import save_image\n",
    "from torch.autograd import Variable"
   ]
  },
  {
   "attachments": {},
   "cell_type": "markdown",
   "metadata": {},
   "source": [
    "定义 GAN 网络的两个组成部分：生成器和判别器。\n",
    "\n",
    "生成器的定义如下："
   ]
  },
  {
   "cell_type": "code",
   "execution_count": 3,
   "metadata": {},
   "outputs": [],
   "source": [
    "class Generator(nn.Module):\n",
    "    def __init__(self, z_dim, hidden_dim, output_dim):\n",
    "        super(Generator, self).__init__()\n",
    "        self.fc1 = nn.Linear(z_dim, hidden_dim)\n",
    "        self.fc2 = nn.Linear(hidden_dim, hidden_dim * 2)\n",
    "        self.fc3 = nn.Linear(hidden_dim * 2, hidden_dim * 4)\n",
    "        self.fc4 = nn.Linear(hidden_dim * 4, output_dim)\n",
    "        self.activation = nn.ReLU()\n",
    "\n",
    "    def forward(self, z):\n",
    "        x = self.activation(self.fc1(z))\n",
    "        x = self.activation(self.fc2(x))\n",
    "        x = self.activation(self.fc3(x))\n",
    "        x = self.fc4(x)\n",
    "        return x"
   ]
  },
  {
   "attachments": {},
   "cell_type": "markdown",
   "metadata": {},
   "source": [
    "生成器接收一个噪声向量 z，并输出一张图像。它包含了四个全连接层，每个层都使用了 ReLU 激活函数。\n",
    "\n",
    "判别器的定义如下："
   ]
  },
  {
   "cell_type": "code",
   "execution_count": 4,
   "metadata": {},
   "outputs": [],
   "source": [
    "class Discriminator(nn.Module):\n",
    "    def __init__(self, input_dim, hidden_dim):\n",
    "        super(Discriminator, self).__init__()\n",
    "        self.fc1 = nn.Linear(input_dim, hidden_dim * 4)\n",
    "        self.fc2 = nn.Linear(hidden_dim * 4, hidden_dim * 2)\n",
    "        self.fc3 = nn.Linear(hidden_dim * 2, hidden_dim)\n",
    "        self.fc4 = nn.Linear(hidden_dim, 1)\n",
    "        self.activation = nn.ReLU()\n",
    "        self.sigmoid = nn.Sigmoid()\n",
    "\n",
    "    def forward(self, x):\n",
    "        x = self.activation(self.fc1(x))\n",
    "        x = self.activation(self.fc2(x))\n",
    "        x = self.activation(self.fc3(x))\n",
    "        x = self.sigmoid(self.fc4(x))\n",
    "        return x"
   ]
  },
  {
   "attachments": {},
   "cell_type": "markdown",
   "metadata": {},
   "source": [
    "判别器接收一张图像，并输出一个标量值，用于表示这张图像是否为真实图像。它包含了四个全连接层，前三个层都使用了 ReLU 激活函数，最后一层使用了 Sigmoid 激活函数。"
   ]
  },
  {
   "cell_type": "code",
   "execution_count": null,
   "metadata": {},
   "outputs": [],
   "source": [
    "def train(generator, discriminator, dataloader, n_epochs, z_dim, lr, device):\n",
    "    # 设置优化器\n",
    "    optimizer_G = optim.Adam(generator.parameters(), lr=lr)\n",
    "    optimizer_D = optim.Adam(discriminator.parameters(), lr=lr)\n",
    "\n",
    "    # 定义损失函数\n",
    "    criterion = nn.BCELoss()\n",
    "\n",
    "    # 开始训练\n",
    "    for epoch in range(n_epochs):\n",
    "        for i, (real_images, _) in enumerate(dataloader):\n",
    "            real_images = real_images\n",
    "            batch_size = real_images.shape[0]\n",
    "\n",
    "            # 训练判别器\n",
    "            optimizer_D.zero_grad()\n",
    "            noise = torch.randn(batch_size, z_dim)\n",
    "            fake_images = generator(noise)\n",
    "            real_labels = torch.ones(batch_size, 1)\n",
    "            "
   ]
  }
 ],
 "metadata": {
  "kernelspec": {
   "display_name": "Python 3",
   "language": "python",
   "name": "python3"
  },
  "language_info": {
   "codemirror_mode": {
    "name": "ipython",
    "version": 3
   },
   "file_extension": ".py",
   "mimetype": "text/x-python",
   "name": "python",
   "nbconvert_exporter": "python",
   "pygments_lexer": "ipython3",
   "version": "3.7.3"
  },
  "orig_nbformat": 4,
  "vscode": {
   "interpreter": {
    "hash": "f5750bd45e76316a47334764e627893c48d52c636d4b18e9a7a8d55df5dd77f2"
   }
  }
 },
 "nbformat": 4,
 "nbformat_minor": 2
}
